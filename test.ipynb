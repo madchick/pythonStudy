{
 "cells": [
  {
   "cell_type": "code",
   "execution_count": 1,
   "metadata": {},
   "outputs": [],
   "source": [
    "import requests\n",
    "from bs4 import BeautifulSoup as bs\n",
    "import pandas as pd\n",
    "from tqdm import trange"
   ]
  },
  {
   "cell_type": "code",
   "execution_count": 2,
   "metadata": {},
   "outputs": [
    {
     "data": {
      "text/plain": [
       "<Response [200]>"
      ]
     },
     "execution_count": 2,
     "metadata": {},
     "output_type": "execute_result"
    }
   ],
   "source": [
    "base_url = \"https://search.shopping.naver.com/detail/detail.nhn?nvMid=21668252146&NaPm=ct%3Dkb6aggq0%7Cci%3Dec981f90116084215113b82d6e940ad9dfc83d29%7Ctr%3Dslsl%7Csn%3D95694%7Chk%3D640c1e2e4b1812cd0dcf740c6bd69df4babb2cbe\"\n",
    "response = requests.get(base_url)\n",
    "response"
   ]
  },
  {
   "cell_type": "code",
   "execution_count": 3,
   "metadata": {},
   "outputs": [],
   "source": [
    "soup = bs(response.text,'html.parser')"
   ]
  },
  {
   "cell_type": "code",
   "execution_count": 4,
   "metadata": {},
   "outputs": [
    {
     "data": {
      "text/plain": [
       "20"
      ]
     },
     "execution_count": 4,
     "metadata": {},
     "output_type": "execute_result"
    }
   ],
   "source": [
    "content = soup.select(\"#_review_list > li\")\n",
    "len(content)"
   ]
  },
  {
   "cell_type": "code",
   "execution_count": 5,
   "metadata": {},
   "outputs": [
    {
     "data": {
      "text/plain": [
       "'좋아요 첫 감자탕 도전기 힘들엇지만 말해냇습니다! 감자탕집에서 먹는 감자탕 고기보단 덜 야들야들 하지마는 그건 제 요리로 인한고같아요 고기는 정말 신선해보이고 포장도 까알끔 하게 옵니다! 살 특별히 무지막지하게 많다 이것까지는 모르겟으나 헐 뭐야 너무 없자나...이것도 아닙니당....그냥 우헤헤헤 감자탕 해먹어야지~ 라는 생각을 주기에 아무런 영향이 옶습니다.아니 근데 솔쥑히 이가격이면 가성비로는 쵝오인듯 3키로만 끓엿는데 한솥나옵디다...무료배송 하려고 7kg 시켯응께 잘먹겟습니다 감사합니당'"
      ]
     },
     "execution_count": 5,
     "metadata": {},
     "output_type": "execute_result"
    }
   ],
   "source": [
    "myText = content[1].select(\"div > div.atc\")[0].get_text(strip=True)\n",
    "myText"
   ]
  },
  {
   "cell_type": "code",
   "execution_count": null,
   "metadata": {},
   "outputs": [],
   "source": []
  }
 ],
 "metadata": {
  "kernelspec": {
   "display_name": "Python 3",
   "language": "python",
   "name": "python3"
  },
  "language_info": {
   "codemirror_mode": {
    "name": "ipython",
    "version": 3
   },
   "file_extension": ".py",
   "mimetype": "text/x-python",
   "name": "python",
   "nbconvert_exporter": "python",
   "pygments_lexer": "ipython3",
   "version": "3.7.6"
  }
 },
 "nbformat": 4,
 "nbformat_minor": 4
}
